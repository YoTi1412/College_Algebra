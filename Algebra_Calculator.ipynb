{
 "cells": [
  {
   "cell_type": "markdown",
   "metadata": {
    "id": "7rvWLJjxmnS4"
   },
   "source": [
    "# Proportions"
   ]
  },
  {
   "cell_type": "markdown",
   "metadata": {
    "id": "_QVm2FELlXdW"
   },
   "source": [
    "Set up a poroportion : </br>\n",
    "$\\frac{n1}{d1}=\\frac{n2}{d2}$"
   ]
  },
  {
   "cell_type": "code",
   "execution_count": 3,
   "metadata": {
    "colab": {
     "base_uri": "https://localhost:8080/"
    },
    "executionInfo": {
     "elapsed": 7399,
     "status": "ok",
     "timestamp": 1681775277468,
     "user": {
      "displayName": "Midnight Podcast",
      "userId": "00833061628251764310"
     },
     "user_tz": 0
    },
    "id": "XjEL6qWylSPm",
    "outputId": "3d64918c-6e3b-4770-f1c8-3cfda1c6e376"
   },
   "outputs": [
    {
     "name": "stdout",
     "output_type": "stream",
     "text": [
      "n1 Value : 12\n",
      "d1 Value : 23\n",
      "n2 Value : 0\n",
      "d2 Value : 42\n",
      "n2 =  21.91304347826087\n"
     ]
    }
   ],
   "source": [
    "# Put a 0 in for the unknown value\n",
    "n1 = int(input(\"n1 Value : \"))\n",
    "d1 = int(input(\"d1 Value : \"))\n",
    "n2 = int(input(\"n2 Value : \"))\n",
    "d2 = int(input(\"d2 Value : \"))\n",
    "\n",
    "if n2 == 0:\n",
    "    answer = n1 * d2 / d1\n",
    "    print(\"n2 = \", answer) \n",
    "\n",
    "if d2 == 0:\n",
    "    answer = d1 * n2 / n1\n",
    "    print(\"d2 = \", answer) "
   ]
  },
  {
   "cell_type": "markdown",
   "metadata": {
    "id": "23ywGXi9lo71"
   },
   "source": [
    "# solve for X"
   ]
  },
  {
   "cell_type": "code",
   "execution_count": 23,
   "metadata": {
    "colab": {
     "base_uri": "https://localhost:8080/"
    },
    "executionInfo": {
     "elapsed": 6697,
     "status": "ok",
     "timestamp": 1681776659609,
     "user": {
      "displayName": "Midnight Podcast",
      "userId": "00833061628251764310"
     },
     "user_tz": 0
    },
    "id": "af8xXjeDm4OR",
    "outputId": "e9b37b50-1997-4ea7-da54-499996fe7bff"
   },
   "outputs": [
    {
     "name": "stdout",
     "output_type": "stream",
     "text": [
      "Enter Equation : 0 = 2*x -4\n",
      "x =  2\n"
     ]
    }
   ],
   "source": [
    "import sympy\n",
    "from sympy import symbols\n",
    "from sympy.solvers import solve\n",
    "\n",
    "x = symbols(\"x\")\n",
    "\n",
    "# Ur equation goes here\n",
    "eq = input(\"Enter Equation : 0 = \")\n",
    "\n",
    "solution = solve(eq,x)\n",
    "print(\"x = \", solution[0])"
   ]
  },
  {
   "cell_type": "markdown",
   "metadata": {
    "id": "sarje7CEn619"
   },
   "source": [
    "# Factoring"
   ]
  },
  {
   "cell_type": "code",
   "execution_count": 9,
   "metadata": {
    "colab": {
     "base_uri": "https://localhost:8080/"
    },
    "executionInfo": {
     "elapsed": 5694,
     "status": "ok",
     "timestamp": 1681775692489,
     "user": {
      "displayName": "Midnight Podcast",
      "userId": "00833061628251764310"
     },
     "user_tz": 0
    },
    "id": "S-8ysD5rn8oj",
    "outputId": "783ace20-ae6d-4093-f0ae-97118e16c307"
   },
   "outputs": [
    {
     "name": "stdout",
     "output_type": "stream",
     "text": [
      "Write your equation : x**2 -4\n",
      "(x - 2)*(x + 2)\n"
     ]
    }
   ],
   "source": [
    "import sympy as sp\n",
    "\n",
    "# Define the variables\n",
    "x, y = sp.symbols('x y')\n",
    "\n",
    "# Get the equation from the user\n",
    "eq = input(\"Write your equation : \")\n",
    "\n",
    "# Factorize the equation\n",
    "factorized_eq = sp.factor(eq)\n",
    "\n",
    "# Print the result\n",
    "print(factorized_eq)\n"
   ]
  },
  {
   "cell_type": "markdown",
   "metadata": {
    "id": "kxRf9qyMphm4"
   },
   "source": [
    "# Solve for a variable"
   ]
  },
  {
   "cell_type": "code",
   "execution_count": null,
   "metadata": {
    "id": "Whf2hRnhpkbX"
   },
   "outputs": [],
   "source": [
    "from sympy import *\n",
    "import math\n",
    "\n",
    "# identify all the variables\n",
    "var(\"a b c d x\")\n",
    "\n",
    "# prompt user for input\n",
    "new_right = input(\"Enter the new right-hand side of the equation: \")\n",
    "\n",
    "# left side of the equal sign\n",
    "left = 0\n",
    "\n",
    "# right side of the equal sign (updated with user input)\n",
    "right = simplify(new_right)\n",
    "\n",
    "# sympy equation left = right\n",
    "eq1 = Eq(left, right)\n",
    "\n",
    "# sympy solve for x\n",
    "solution = solve(eq1, x)\n",
    "\n",
    "# print the solutions\n",
    "for s in solution:\n",
    "    print(\"x =\", s)\n"
   ]
  },
  {
   "cell_type": "markdown",
   "metadata": {
    "id": "cRIqfpZCsBm6"
   },
   "source": [
    "# Convert Decimal to fraction and percent"
   ]
  },
  {
   "cell_type": "code",
   "execution_count": null,
   "metadata": {
    "colab": {
     "base_uri": "https://localhost:8080/"
    },
    "executionInfo": {
     "elapsed": 2997,
     "status": "ok",
     "timestamp": 1681776488245,
     "user": {
      "displayName": "Midnight Podcast",
      "userId": "00833061628251764310"
     },
     "user_tz": 0
    },
    "id": "X2FHtIMjsHN4",
    "outputId": "7cb37926-da64-4e90-c81a-9ce8bf0acbc2"
   },
   "outputs": [],
   "source": [
    "# get string input, wich will include a decimal point\n",
    "digit = input(\"Enter a decimal number to convert : \")\n",
    "\n",
    "# get number of decimal place as an integer\n",
    "exponent = int(len(digit))-1\n",
    "\n",
    "# convert the input to a float number\n",
    "n = float(digit)\n",
    "\n",
    "# get the numerator\n",
    "numerator = int(n * 10 ** exponent)\n",
    "\n",
    "# get the denominator\n",
    "denominator = 10 ** exponent\n",
    "\n",
    "# percent is the first two decimal places\n",
    "percent = n * 100\n",
    "\n",
    "# output\n",
    "print(\"The decimal is : \", n)\n",
    "print(\"The fraction is : \", numerator, \"/\", denominator)\n",
    "print(\"The percent is : \", percent, \" %\")"
   ]
  }
 ],
 "metadata": {
  "colab": {
   "authorship_tag": "ABX9TyMZLQL//dQWDGoMdIOuIb6F",
   "provenance": [],
   "toc_visible": true
  },
  "kernelspec": {
   "display_name": "Python 3 (ipykernel)",
   "language": "python",
   "name": "python3"
  },
  "language_info": {
   "codemirror_mode": {
    "name": "ipython",
    "version": 3
   },
   "file_extension": ".py",
   "mimetype": "text/x-python",
   "name": "python",
   "nbconvert_exporter": "python",
   "pygments_lexer": "ipython3",
   "version": "3.9.13"
  }
 },
 "nbformat": 4,
 "nbformat_minor": 1
}
