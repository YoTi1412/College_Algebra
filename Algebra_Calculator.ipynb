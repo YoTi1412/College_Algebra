{
  "nbformat": 4,
  "nbformat_minor": 0,
  "metadata": {
    "colab": {
      "provenance": [],
      "toc_visible": true,
      "authorship_tag": "ABX9TyMZLQL//dQWDGoMdIOuIb6F",
      "include_colab_link": true
    },
    "kernelspec": {
      "name": "python3",
      "display_name": "Python 3"
    },
    "language_info": {
      "name": "python"
    }
  },
  "cells": [
    {
      "cell_type": "markdown",
      "metadata": {
        "id": "view-in-github",
        "colab_type": "text"
      },
      "source": [
        "<a href=\"https://colab.research.google.com/github/YoTi1412/College_Algebra/blob/main/Algebra_Calculator.ipynb\" target=\"_parent\"><img src=\"https://colab.research.google.com/assets/colab-badge.svg\" alt=\"Open In Colab\"/></a>"
      ]
    },
    {
      "cell_type": "markdown",
      "source": [
        "# Proportions"
      ],
      "metadata": {
        "id": "7rvWLJjxmnS4"
      }
    },
    {
      "cell_type": "markdown",
      "source": [
        "Set up a poroportion : </br>\n",
        "$\\frac{n1}{d1}=\\frac{n2}{d2}$"
      ],
      "metadata": {
        "id": "_QVm2FELlXdW"
      }
    },
    {
      "cell_type": "code",
      "execution_count": null,
      "metadata": {
        "id": "XjEL6qWylSPm"
      },
      "outputs": [],
      "source": [
        "# Put a 0 in for the unknown value\n",
        "n1 = int(input(\"n1 Value : \"))\n",
        "d1 = int(input(\"d1 Value : \"))\n",
        "n2 = int(input(\"n2 Value : \"))\n",
        "d2 = int(input(\"d2 Value : \"))\n",
        "\n",
        "if n2 == 0:\n",
        "    answer = n1 * d2 / d1\n",
        "    print(\"n2 = \", answer) \n",
        "\n",
        "if d2 == 0:\n",
        "    answer = d1 * n2 / n1\n",
        "    print(\"d2 = \", answer) "
      ]
    },
    {
      "cell_type": "markdown",
      "source": [
        "# solve for X"
      ],
      "metadata": {
        "id": "23ywGXi9lo71"
      }
    },
    {
      "cell_type": "code",
      "source": [
        "import sympy\n",
        "from sympy import symbols\n",
        "from sympy.solvers import solve\n",
        "\n",
        "x = symbols(\"x\")\n",
        "\n",
        "# Ur equation goes here\n",
        "eq = input(\"Enter Equation : 0 = \")\n",
        "\n",
        "solution = solve(eq,x)\n",
        "print(\"x = \", solution[0])"
      ],
      "metadata": {
        "id": "af8xXjeDm4OR"
      },
      "execution_count": null,
      "outputs": []
    },
    {
      "cell_type": "markdown",
      "source": [
        "# Factoring"
      ],
      "metadata": {
        "id": "sarje7CEn619"
      }
    },
    {
      "cell_type": "code",
      "source": [
        "import sympy as sp\n",
        "\n",
        "# Define the variables\n",
        "x, y = sp.symbols('x y')\n",
        "\n",
        "# Get the equation from the user\n",
        "eq = input(\"Write your equation : \")\n",
        "\n",
        "# Factorize the equation\n",
        "factorized_eq = sp.factor(eq)\n",
        "\n",
        "# Print the result\n",
        "print(factorized_eq)\n"
      ],
      "metadata": {
        "id": "S-8ysD5rn8oj"
      },
      "execution_count": null,
      "outputs": []
    },
    {
      "cell_type": "markdown",
      "source": [
        "# Solve for a variable"
      ],
      "metadata": {
        "id": "kxRf9qyMphm4"
      }
    },
    {
      "cell_type": "code",
      "source": [
        "from sympy import *\n",
        "import math\n",
        "\n",
        "# identify all the variables\n",
        "var(\"a b c d x\")\n",
        "\n",
        "# prompt user for input\n",
        "new_right = input(\"Enter the new right-hand side of the equation: \")\n",
        "\n",
        "# left side of the equal sign\n",
        "left = 0\n",
        "\n",
        "# right side of the equal sign (updated with user input)\n",
        "right = simplify(new_right)\n",
        "\n",
        "# sympy equation left = right\n",
        "eq1 = Eq(left, right)\n",
        "\n",
        "# sympy solve for x\n",
        "solution = solve(eq1, x)\n",
        "\n",
        "# print the solutions\n",
        "for s in solution:\n",
        "    print(\"x =\", s)\n"
      ],
      "metadata": {
        "id": "Whf2hRnhpkbX"
      },
      "execution_count": null,
      "outputs": []
    },
    {
      "cell_type": "markdown",
      "source": [
        "# Convert Decimal to fraction and percent"
      ],
      "metadata": {
        "id": "cRIqfpZCsBm6"
      }
    },
    {
      "cell_type": "code",
      "source": [
        "# get string input, wich will include a decimal point\n",
        "digit = input(\"Enter a decimal number to convert : \")\n",
        "\n",
        "# get number of decimal place as an integer\n",
        "exponent = int(len(digit))-1\n",
        "\n",
        "# convert the input to a float number\n",
        "n = float(digit)\n",
        "\n",
        "# get the numerator\n",
        "numerator = int(n * 10 ** exponent)\n",
        "\n",
        "# get the denominator\n",
        "denominator = 10 ** exponent\n",
        "\n",
        "# percent is the first two decimal places\n",
        "percent = n * 100\n",
        "\n",
        "# output\n",
        "print(\"The decimal is : \", n)\n",
        "print(\"The fraction is : \", numerator, \"/\", denominator)\n",
        "print(\"The percent is : \", percent, \" %\")"
      ],
      "metadata": {
        "id": "X2FHtIMjsHN4"
      },
      "execution_count": null,
      "outputs": []
    }
  ]
}